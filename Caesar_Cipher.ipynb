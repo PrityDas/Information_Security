{
  "nbformat": 4,
  "nbformat_minor": 0,
  "metadata": {
    "colab": {
      "provenance": [],
      "authorship_tag": "ABX9TyOGCUSeTHZ6rza9CHUUEsfF",
      "include_colab_link": true
    },
    "kernelspec": {
      "name": "python3",
      "display_name": "Python 3"
    },
    "language_info": {
      "name": "python"
    }
  },
  "cells": [
    {
      "cell_type": "markdown",
      "metadata": {
        "id": "view-in-github",
        "colab_type": "text"
      },
      "source": [
        "<a href=\"https://colab.research.google.com/github/prityd825/Information_Security/blob/main/Caesar_Cipher.ipynb\" target=\"_parent\"><img src=\"https://colab.research.google.com/assets/colab-badge.svg\" alt=\"Open In Colab\"/></a>"
      ]
    },
    {
      "cell_type": "code",
      "execution_count": 2,
      "metadata": {
        "id": "U30U7Q1p4ixY"
      },
      "outputs": [],
      "source": [
        "def caesar_cipher(plain_text, shift):\n",
        "    cipher_text = \"\"\n",
        "    for char in plain_text:\n",
        "        if char.isalpha():\n",
        "            offset = ord('a') if char.islower() else ord('A')\n",
        "            cipher_char = chr((ord(char) - offset + shift) % 26 + offset)\n",
        "            cipher_text += cipher_char\n",
        "        else:\n",
        "            cipher_text += char\n",
        "    return cipher_text"
      ]
    }
  ]
}